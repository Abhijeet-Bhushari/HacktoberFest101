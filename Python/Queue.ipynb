{
 "cells": [
  {
   "cell_type": "markdown",
   "metadata": {},
   "source": [
    "## Queue using Array and Linked List"
   ]
  },
  {
   "cell_type": "markdown",
   "metadata": {},
   "source": [
    "### Queue using Array"
   ]
  },
  {
   "cell_type": "code",
   "execution_count": 1,
   "metadata": {},
   "outputs": [
    {
     "name": "stdout",
     "output_type": "stream",
     "text": [
      "1\n",
      "2\n",
      "3\n",
      "2\n",
      "False\n"
     ]
    }
   ],
   "source": [
    "class QueueUsingArray:\n",
    "    def __init__(self):\n",
    "        self.__arr=[]\n",
    "        self.__front=0\n",
    "        self.__count=0\n",
    "    def enqueue(self,data):\n",
    "        self.__arr.append(data)\n",
    "        self.__count+=1\n",
    "    def dequeue(self):\n",
    "        if self.size() != 0:\n",
    "            ele = self.__arr[self.__front]\n",
    "            self.__count-=1\n",
    "            self.__front+=1\n",
    "            return ele\n",
    "        else:\n",
    "            return \"List is Empty\"\n",
    "    def size(self):\n",
    "        return self.__count\n",
    "    def isEmpty(self):\n",
    "        if self.size()==0:\n",
    "            return True\n",
    "        else:\n",
    "            return False\n",
    "    def front(self):\n",
    "        if self.size() != 0:\n",
    "            return self.__arr[self.__front]\n",
    "        else:\n",
    "            return \"List is Empty\"\n",
    "\n",
    "\n",
    "q = QueueUsingArray()\n",
    "q.enqueue(1)\n",
    "q.enqueue(2)\n",
    "q.enqueue(3)\n",
    "q.enqueue(4)\n",
    "print(q.dequeue())\n",
    "print(q.dequeue())\n",
    "print(q.front())\n",
    "print(q.size())\n",
    "print(q.isEmpty())"
   ]
  },
  {
   "cell_type": "markdown",
   "metadata": {},
   "source": [
    "### Queue using Linked List"
   ]
  },
  {
   "cell_type": "code",
   "execution_count": 2,
   "metadata": {},
   "outputs": [
    {
     "name": "stdout",
     "output_type": "stream",
     "text": [
      "1\n",
      "2\n",
      "3\n",
      "2\n",
      "False\n"
     ]
    }
   ],
   "source": [
    "class QueueUsingArray:\n",
    "    def __init__(self):\n",
    "        self.__arr=[]\n",
    "        self.__front=0\n",
    "        self.__count=0\n",
    "    def enqueue(self,data):\n",
    "        self.__arr.append(data)\n",
    "        self.__count+=1\n",
    "    def dequeue(self):\n",
    "        if self.size() != 0:\n",
    "            ele = self.__arr[self.__front]\n",
    "            self.__count-=1\n",
    "            self.__front+=1\n",
    "            return ele\n",
    "        else:\n",
    "            return \"List is Empty\"\n",
    "    def size(self):\n",
    "        return self.__count\n",
    "    def isEmpty(self):\n",
    "        if self.size()==0:\n",
    "            return True\n",
    "        else:\n",
    "            return False\n",
    "    def front(self):\n",
    "        if self.size() != 0:\n",
    "            return self.__arr[self.__front]\n",
    "        else:\n",
    "            return \"List is Empty\"\n",
    "\n",
    "\n",
    "q = QueueUsingArray()\n",
    "q.enqueue(1)\n",
    "q.enqueue(2)\n",
    "q.enqueue(3)\n",
    "q.enqueue(4)\n",
    "print(q.dequeue())\n",
    "print(q.dequeue())\n",
    "print(q.front())\n",
    "print(q.size())\n",
    "print(q.isEmpty())"
   ]
  },
  {
   "cell_type": "code",
   "execution_count": null,
   "metadata": {},
   "outputs": [],
   "source": []
  }
 ],
 "metadata": {
  "kernelspec": {
   "display_name": "Python 3",
   "language": "python",
   "name": "python3"
  },
  "language_info": {
   "codemirror_mode": {
    "name": "ipython",
    "version": 3
   },
   "file_extension": ".py",
   "mimetype": "text/x-python",
   "name": "python",
   "nbconvert_exporter": "python",
   "pygments_lexer": "ipython3",
   "version": "3.8.3"
  }
 },
 "nbformat": 4,
 "nbformat_minor": 4
}
