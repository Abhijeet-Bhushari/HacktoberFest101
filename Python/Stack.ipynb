{
 "cells": [
  {
   "cell_type": "markdown",
   "metadata": {},
   "source": [
    "## Stack using Array and LinkedList"
   ]
  },
  {
   "cell_type": "markdown",
   "metadata": {},
   "source": [
    "### Using Array"
   ]
  },
  {
   "cell_type": "code",
   "execution_count": 1,
   "metadata": {},
   "outputs": [],
   "source": [
    "class Stack:\n",
    "    def __init__(self):\n",
    "        self.__data = []\n",
    "    \n",
    "    def push(self,item):\n",
    "        self.__data.append(item)\n",
    "    \n",
    "    def pop(self):\n",
    "        if self.isEmpty():\n",
    "            return \"Hey Stack is Empty\"\n",
    "        return self.__data.pop()\n",
    "    \n",
    "    def top(self):\n",
    "        if self.isEmpty():\n",
    "            return \"Hey Stack is Empty\"\n",
    "        return self.__data[len(self.__data)-1]\n",
    "    \n",
    "    def size(self):\n",
    "        return len(self.__data)\n",
    "    \n",
    "    def isEmpty(self):\n",
    "        return self.size()==0"
   ]
  },
  {
   "cell_type": "code",
   "execution_count": 2,
   "metadata": {},
   "outputs": [
    {
     "name": "stdout",
     "output_type": "stream",
     "text": [
      "90\n",
      "19\n",
      "11\n",
      "Hey Stack is Empty\n"
     ]
    }
   ],
   "source": [
    "s=Stack()\n",
    "s.push(11)\n",
    "s.push(19)\n",
    "s.push(90)\n",
    "while s.isEmpty() is False:\n",
    "    print(s.pop())\n",
    "print(s.top())"
   ]
  },
  {
   "cell_type": "markdown",
   "metadata": {},
   "source": [
    "### Using Linked List"
   ]
  },
  {
   "cell_type": "code",
   "execution_count": 3,
   "metadata": {},
   "outputs": [],
   "source": [
    "class Node:\n",
    "    def __init__(self,data):\n",
    "        self.data = data\n",
    "        self.next = None\n",
    "        \n",
    "class StackUsingLL:\n",
    "    def __init__(self):\n",
    "        self.__head = None\n",
    "        self.__size = 0\n",
    "\n",
    "    def push(self,data):\n",
    "        temp=Node(data)\n",
    "        temp.next=self.__head\n",
    "        self.__head=temp\n",
    "        self.__size+=1\n",
    "        \n",
    "    def pop(self):\n",
    "        if self.__size==0:\n",
    "            return 0\n",
    "        temp=self.__head.data\n",
    "        self.__head = self.__head.next\n",
    "        self.__size-=1\n",
    "        return temp\n",
    "    \n",
    "    def top(self):\n",
    "        if self.__size==0:\n",
    "            return 0\n",
    "        return self.__head.data\n",
    "    \n",
    "    def isEmpty(self):\n",
    "        return self.__size==0\n",
    "        \n",
    "    def getSize(self):\n",
    "        return self.__size"
   ]
  },
  {
   "cell_type": "code",
   "execution_count": 4,
   "metadata": {},
   "outputs": [
    {
     "name": "stdout",
     "output_type": "stream",
     "text": [
      "6\n",
      "5\n",
      "4\n",
      "False\n",
      "4\n",
      "13\n"
     ]
    }
   ],
   "source": [
    "s = StackUsingLL()\n",
    "s.push(1)\n",
    "s.push(2)\n",
    "s.push(3)\n",
    "s.push(4)\n",
    "s.push(5)\n",
    "s.push(6)\n",
    "print(s.pop())\n",
    "print(s.pop())\n",
    "print(s.top())\n",
    "print(s.isEmpty())\n",
    "print(s.getSize())\n",
    "s.push(13)\n",
    "print(s.pop())"
   ]
  },
  {
   "cell_type": "code",
   "execution_count": null,
   "metadata": {},
   "outputs": [],
   "source": []
  }
 ],
 "metadata": {
  "kernelspec": {
   "display_name": "Python 3",
   "language": "python",
   "name": "python3"
  },
  "language_info": {
   "codemirror_mode": {
    "name": "ipython",
    "version": 3
   },
   "file_extension": ".py",
   "mimetype": "text/x-python",
   "name": "python",
   "nbconvert_exporter": "python",
   "pygments_lexer": "ipython3",
   "version": "3.8.3"
  }
 },
 "nbformat": 4,
 "nbformat_minor": 4
}
